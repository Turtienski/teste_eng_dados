{
 "cells": [
  {
   "cell_type": "code",
   "execution_count": 1,
   "id": "2a83346c",
   "metadata": {},
   "outputs": [
    {
     "name": "stderr",
     "output_type": "stream",
     "text": [
      "22/01/23 20:27:09 WARN Utils: Your hostname, MacBook-Pro-do-Renato-Turtienski.local resolves to a loopback address: 127.0.0.1; using 192.168.0.202 instead (on interface en0)\n",
      "22/01/23 20:27:09 WARN Utils: Set SPARK_LOCAL_IP if you need to bind to another address\n",
      "Using Spark's default log4j profile: org/apache/spark/log4j-defaults.properties\n",
      "Setting default log level to \"WARN\".\n",
      "To adjust logging level use sc.setLogLevel(newLevel). For SparkR, use setLogLevel(newLevel).\n",
      "22/01/23 20:27:09 WARN NativeCodeLoader: Unable to load native-hadoop library for your platform... using builtin-java classes where applicable\n"
     ]
    }
   ],
   "source": [
    "from pyspark.sql import SparkSession\n",
    "\n",
    "appName = \"Valor total liquido\"\n",
    "master = \"local\"\n",
    "\n",
    "# Criand a sessao Spark \n",
    "spark = SparkSession.builder \\\n",
    "    .appName(appName) \\\n",
    "    .master(master) \\\n",
    "    .getOrCreate()"
   ]
  },
  {
   "cell_type": "code",
   "execution_count": 2,
   "id": "12231de2",
   "metadata": {},
   "outputs": [],
   "source": [
    "#dicionário que será lido como um dataframe para realização das operações necessárias\n",
    "\n",
    "transacoes = [{'transacao_id':1, 'total_bruto':3000, 'desconto_percentual':6.99},\n",
    "              {'transacao_id':2, 'total_bruto':57989, 'desconto_percentual':1.45},\n",
    "              {'transacao_id':4, 'total_bruto':1, 'desconto_percentual':None},\n",
    "              {'transacao_id':5, 'total_bruto':34, 'desconto_percentual':0.0}]"
   ]
  },
  {
   "cell_type": "code",
   "execution_count": 3,
   "id": "28b08372",
   "metadata": {},
   "outputs": [],
   "source": [
    "# criando o dataframe \n",
    "\n",
    "df = spark.createDataFrame(transacoes)"
   ]
  },
  {
   "cell_type": "code",
   "execution_count": 4,
   "id": "2378ef68",
   "metadata": {
    "scrolled": true
   },
   "outputs": [
    {
     "name": "stderr",
     "output_type": "stream",
     "text": [
      "[Stage 0:>                                                          (0 + 1) / 1]\r"
     ]
    },
    {
     "name": "stdout",
     "output_type": "stream",
     "text": [
      "+-------------------+-----------+------------+\n",
      "|desconto_percentual|total_bruto|transacao_id|\n",
      "+-------------------+-----------+------------+\n",
      "|               6.99|       3000|           1|\n",
      "|               1.45|      57989|           2|\n",
      "|               null|          1|           4|\n",
      "|                0.0|         34|           5|\n",
      "+-------------------+-----------+------------+\n",
      "\n"
     ]
    },
    {
     "name": "stderr",
     "output_type": "stream",
     "text": [
      "\r",
      "                                                                                \r"
     ]
    }
   ],
   "source": [
    "# verificando a criacao do dataframe\n",
    "\n",
    "df.show()\n",
    "    "
   ]
  },
  {
   "cell_type": "markdown",
   "id": "cd3a7a28",
   "metadata": {},
   "source": [
    "Será necessário:\n",
    "1. tratar o percentual, como no primeiro entregável, dividindo os valores do campo desconto_percentual por 100,\n",
    "2. multiplicar o total bruto por (1-desconto_percentual/100) - lembrando que já estará tratado pela divisão por 100 do primeiro passo\n",
    "3. Por fim, somar os valores "
   ]
  },
  {
   "cell_type": "code",
   "execution_count": 5,
   "id": "8da05bf4",
   "metadata": {},
   "outputs": [],
   "source": [
    "''' tratando o campo desconto_percentual, já corrigindo o valor nulo da terceira linha, \n",
    "substituindo o por zero, em uma nova coluna para não perdermos informações.\n",
    "Já traremos o valor que devemos pelo total bruto(passo 2 acima)'''\n",
    "from pyspark.sql.functions import when   \n",
    "\n",
    "df = df.withColumn('desconto', when(df.desconto_percentual.isNull(), 1.0).otherwise(1-df.desconto_percentual/100))"
   ]
  },
  {
   "cell_type": "code",
   "execution_count": 6,
   "id": "66cc7008",
   "metadata": {},
   "outputs": [
    {
     "name": "stdout",
     "output_type": "stream",
     "text": [
      "+-------------------+-----------+------------+--------+\n",
      "|desconto_percentual|total_bruto|transacao_id|desconto|\n",
      "+-------------------+-----------+------------+--------+\n",
      "|               6.99|       3000|           1|  0.9301|\n",
      "|               1.45|      57989|           2|  0.9855|\n",
      "|               null|          1|           4|     1.0|\n",
      "|                0.0|         34|           5|     1.0|\n",
      "+-------------------+-----------+------------+--------+\n",
      "\n"
     ]
    }
   ],
   "source": [
    "df.show()"
   ]
  },
  {
   "cell_type": "code",
   "execution_count": 7,
   "id": "ebb83d55",
   "metadata": {},
   "outputs": [],
   "source": [
    "''' Para o passo três criaremos mais uma nova coluna (total_liquido) \n",
    "com os valores do total_bruto multiplicados pelo desconto ''' \n",
    "\n",
    "df = df.withColumn('total_liquido', df.total_bruto*df.desconto)"
   ]
  },
  {
   "cell_type": "code",
   "execution_count": 8,
   "id": "724eae46",
   "metadata": {},
   "outputs": [
    {
     "name": "stdout",
     "output_type": "stream",
     "text": [
      "+-------------------+-----------+------------+--------+-------------+\n",
      "|desconto_percentual|total_bruto|transacao_id|desconto|total_liquido|\n",
      "+-------------------+-----------+------------+--------+-------------+\n",
      "|               6.99|       3000|           1|  0.9301|       2790.3|\n",
      "|               1.45|      57989|           2|  0.9855|   57148.1595|\n",
      "|               null|          1|           4|     1.0|          1.0|\n",
      "|                0.0|         34|           5|     1.0|         34.0|\n",
      "+-------------------+-----------+------------+--------+-------------+\n",
      "\n"
     ]
    }
   ],
   "source": [
    "df.show()"
   ]
  },
  {
   "cell_type": "code",
   "execution_count": 9,
   "id": "45e918a9",
   "metadata": {},
   "outputs": [
    {
     "name": "stdout",
     "output_type": "stream",
     "text": [
      "59973.46\n"
     ]
    }
   ],
   "source": [
    "# por fim, somememos os valores da coluna total_liquido, quarta coluna a partir do índice zero\n",
    "\n",
    "print(\"{0:.2f}\".format(df.groupBy().sum().collect()[0][4]))"
   ]
  }
 ],
 "metadata": {
  "kernelspec": {
   "display_name": ".entregavel_2",
   "language": "python",
   "name": ".entregavel_2"
  },
  "language_info": {
   "codemirror_mode": {
    "name": "ipython",
    "version": 3
   },
   "file_extension": ".py",
   "mimetype": "text/x-python",
   "name": "python",
   "nbconvert_exporter": "python",
   "pygments_lexer": "ipython3",
   "version": "3.9.9"
  }
 },
 "nbformat": 4,
 "nbformat_minor": 5
}
