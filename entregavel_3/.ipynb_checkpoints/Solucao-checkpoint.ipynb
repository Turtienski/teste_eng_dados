{
 "cells": [
  {
   "cell_type": "markdown",
   "metadata": {},
   "source": [
    "# Expansão dos dados aninhados e desnormalização dos dados \n",
    "\n",
    "Nosso primeiro objetivo será criar uma tabela desnormalizada (todas as informações em uma única tabela)"
   ]
  },
  {
   "cell_type": "code",
   "execution_count": 1,
   "metadata": {},
   "outputs": [
    {
     "name": "stderr",
     "output_type": "stream",
     "text": [
      "22/01/24 02:39:46 WARN Utils: Your hostname, MacBook-Pro-do-Renato-Turtienski.local resolves to a loopback address: 127.0.0.1; using 192.168.0.202 instead (on interface en0)\n",
      "22/01/24 02:39:46 WARN Utils: Set SPARK_LOCAL_IP if you need to bind to another address\n",
      "Using Spark's default log4j profile: org/apache/spark/log4j-defaults.properties\n",
      "Setting default log level to \"WARN\".\n",
      "To adjust logging level use sc.setLogLevel(newLevel). For SparkR, use setLogLevel(newLevel).\n",
      "22/01/24 02:39:46 WARN NativeCodeLoader: Unable to load native-hadoop library for your platform... using builtin-java classes where applicable\n",
      "22/01/24 02:39:47 WARN Utils: Service 'SparkUI' could not bind on port 4040. Attempting port 4041.\n"
     ]
    }
   ],
   "source": [
    "from pyspark.sql.functions import explode\n",
    "from pyspark.sql import SparkSession\n",
    "\n",
    "spark = SparkSession.builder.appName('Criando dataframes a partir de dados aninhados').getOrCreate()\n"
   ]
  },
  {
   "cell_type": "code",
   "execution_count": 2,
   "metadata": {},
   "outputs": [
    {
     "name": "stderr",
     "output_type": "stream",
     "text": [
      "\r",
      "[Stage 0:>                                                          (0 + 1) / 1]\r",
      "\r",
      "                                                                                \r"
     ]
    },
    {
     "name": "stdout",
     "output_type": "stream",
     "text": [
      "root\n",
      " |-- CreateDate: string (nullable = true)\n",
      " |-- Discount: double (nullable = true)\n",
      " |-- EmissionDate: string (nullable = true)\n",
      " |-- ItemList: array (nullable = true)\n",
      " |    |-- element: struct (containsNull = true)\n",
      " |    |    |-- ProductName: string (nullable = true)\n",
      " |    |    |-- Quantity: long (nullable = true)\n",
      " |    |    |-- Value: double (nullable = true)\n",
      " |-- NFeID: long (nullable = true)\n",
      " |-- NFeNumber: long (nullable = true)\n",
      "\n"
     ]
    }
   ],
   "source": [
    "# Lemos o json para dentro de dataframe ainda não normalizado\n",
    "df = spark.read.option('multiline', True).json('data.json')\n",
    "\n",
    "# dando uma olhada no esquema dos dados aninhados\n",
    "df.printSchema()"
   ]
  },
  {
   "cell_type": "code",
   "execution_count": 3,
   "metadata": {},
   "outputs": [
    {
     "name": "stdout",
     "output_type": "stream",
     "text": [
      "+----------------------+--------+-------------------+-----------------------------------------------------------------+-----+---------+\n",
      "|CreateDate            |Discount|EmissionDate       |ItemList                                                         |NFeID|NFeNumber|\n",
      "+----------------------+--------+-------------------+-----------------------------------------------------------------+-----+---------+\n",
      "|2021-05-24T20:21:34.79|0.0     |2021-05-24T00:00:00|[{Rice, 2, 35.55}, {Flour, 5, 11.55}, {Bean, 7, 27.15}]          |1    |501      |\n",
      "|2021-05-24T20:21:34.79|0.0     |2021-05-24T00:00:00|[{Tomate, 10, 12.25}, {Pasta, 5, 7.55}]                          |2    |502      |\n",
      "|2021-05-24T20:21:34.79|0.0     |2021-05-24T00:00:00|[{Beer, 6, 9.0}, {French fries, 2, 10.99}, {Ice cream, 1, 27.15}]|3    |503      |\n",
      "+----------------------+--------+-------------------+-----------------------------------------------------------------+-----+---------+\n",
      "\n"
     ]
    },
    {
     "data": {
      "text/plain": [
       "' podemos perceber que, o número de itens são oitos, sendo:\\n    Rice, Flour, Bean, Tomate, Pasta, Beer, French Fries e Ice Cream\\n    O que denota que teremos uma tabela normalizada com oito linhas\\n'"
      ]
     },
     "execution_count": 3,
     "metadata": {},
     "output_type": "execute_result"
    }
   ],
   "source": [
    "df.show(df.count(), False)\n",
    "\n",
    "''' podemos perceber que, o número de itens são oitos, sendo:\n",
    "    Rice, Flour, Bean, Tomate, Pasta, Beer, French Fries e Ice Cream\n",
    "    O que denota que teremos uma tabela normalizada com oito linhas\n",
    "'''"
   ]
  },
  {
   "cell_type": "code",
   "execution_count": 4,
   "metadata": {},
   "outputs": [],
   "source": [
    "# Vamos desnormalizar o dataframe, Com a coluna com dados aninhados (ItemList) sendo \"explodida\"\n",
    "\n",
    "\n",
    "df_desnormalizado = df.withColumn('ItemList', explode('ItemList'))\\\n",
    "                 .select('CreateDate', 'Discount', 'EmissionDate', 'ItemList.*', 'NFeID', 'NFeNumber')"
   ]
  },
  {
   "cell_type": "code",
   "execution_count": 5,
   "metadata": {},
   "outputs": [
    {
     "name": "stdout",
     "output_type": "stream",
     "text": [
      "+----------------------+--------+-------------------+------------+--------+-----+-----+---------+\n",
      "|CreateDate            |Discount|EmissionDate       |ProductName |Quantity|Value|NFeID|NFeNumber|\n",
      "+----------------------+--------+-------------------+------------+--------+-----+-----+---------+\n",
      "|2021-05-24T20:21:34.79|0.0     |2021-05-24T00:00:00|Rice        |2       |35.55|1    |501      |\n",
      "|2021-05-24T20:21:34.79|0.0     |2021-05-24T00:00:00|Flour       |5       |11.55|1    |501      |\n",
      "|2021-05-24T20:21:34.79|0.0     |2021-05-24T00:00:00|Bean        |7       |27.15|1    |501      |\n",
      "|2021-05-24T20:21:34.79|0.0     |2021-05-24T00:00:00|Tomate      |10      |12.25|2    |502      |\n",
      "|2021-05-24T20:21:34.79|0.0     |2021-05-24T00:00:00|Pasta       |5       |7.55 |2    |502      |\n",
      "|2021-05-24T20:21:34.79|0.0     |2021-05-24T00:00:00|Beer        |6       |9.0  |3    |503      |\n",
      "|2021-05-24T20:21:34.79|0.0     |2021-05-24T00:00:00|French fries|2       |10.99|3    |503      |\n",
      "|2021-05-24T20:21:34.79|0.0     |2021-05-24T00:00:00|Ice cream   |1       |27.15|3    |503      |\n",
      "+----------------------+--------+-------------------+------------+--------+-----+-----+---------+\n",
      "\n"
     ]
    }
   ],
   "source": [
    "# Por fim temos os dados desnormalizados \n",
    "df_desnormalizado.show(df_desnormalizado.count(), False)"
   ]
  },
  {
   "cell_type": "markdown",
   "metadata": {},
   "source": [
    "# Criação dos dataframes \n",
    "Criemos agora os dois dataframes que devem ser releacionar por uma chave\n",
    "Para tal, usaremos NFeID como chave\n",
    "\n",
    "Serão:\n",
    "* Tabela 1: NFe:\n",
    "    * Variáveis: NFeID, NFeNumber, CreateDate, Discount, EmissionDate\n",
    "\n",
    "* Tabela 2: Itens:\n",
    "    * Variáveis: NFeID, ProductName, Quantity, Value\n",
    "    \n",
    "![Image](diagrama_relacional.png)"
   ]
  },
  {
   "cell_type": "code",
   "execution_count": 6,
   "metadata": {},
   "outputs": [
    {
     "name": "stdout",
     "output_type": "stream",
     "text": [
      "+-----+---------+--------------------+--------+-------------------+\n",
      "|NFeID|NFeNumber|          CreateDate|Discount|       EmissionDate|\n",
      "+-----+---------+--------------------+--------+-------------------+\n",
      "|    1|      501|2021-05-24T20:21:...|     0.0|2021-05-24T00:00:00|\n",
      "|    2|      502|2021-05-24T20:21:...|     0.0|2021-05-24T00:00:00|\n",
      "|    3|      503|2021-05-24T20:21:...|     0.0|2021-05-24T00:00:00|\n",
      "+-----+---------+--------------------+--------+-------------------+\n",
      "\n"
     ]
    }
   ],
   "source": [
    "# primeiro dataframe, NFe, deve haver 3 linhas, uma para cada nota fiscal:\n",
    "\n",
    "df_NFe = df_desnormalizado.select('NFeID','NFeNumber','CreateDate','Discount','EmissionDate').distinct().orderBy('NFeID')\n",
    "df_NFe.show()"
   ]
  },
  {
   "cell_type": "code",
   "execution_count": 7,
   "metadata": {},
   "outputs": [
    {
     "name": "stdout",
     "output_type": "stream",
     "text": [
      "+-----+------------+--------+-----+\n",
      "|NFeID| ProductNAme|Quantity|Value|\n",
      "+-----+------------+--------+-----+\n",
      "|    1|        Rice|       2|35.55|\n",
      "|    1|        Bean|       7|27.15|\n",
      "|    1|       Flour|       5|11.55|\n",
      "|    2|       Pasta|       5| 7.55|\n",
      "|    2|      Tomate|      10|12.25|\n",
      "|    3|        Beer|       6|  9.0|\n",
      "|    3|   Ice cream|       1|27.15|\n",
      "|    3|French fries|       2|10.99|\n",
      "+-----+------------+--------+-----+\n",
      "\n"
     ]
    }
   ],
   "source": [
    "# Segundo dataframe, Itens, deve haver oito linhas, um para cada item/produto \n",
    "\n",
    "df_itens = df_desnormalizado.select('NFeID','ProductNAme','Quantity','Value').orderBy('NFeID')\n",
    "df_itens.show()\n"
   ]
  }
 ],
 "metadata": {
  "interpreter": {
   "hash": "aee8b7b246df8f9039afb4144a1f6fd8d2ca17a180786b69acc140d282b71a49"
  },
  "kernelspec": {
   "display_name": "Python 3 (ipykernel)",
   "language": "python",
   "name": "python3"
  },
  "language_info": {
   "codemirror_mode": {
    "name": "ipython",
    "version": 3
   },
   "file_extension": ".py",
   "mimetype": "text/x-python",
   "name": "python",
   "nbconvert_exporter": "python",
   "pygments_lexer": "ipython3",
   "version": "3.9.9"
  }
 },
 "nbformat": 4,
 "nbformat_minor": 2
}
