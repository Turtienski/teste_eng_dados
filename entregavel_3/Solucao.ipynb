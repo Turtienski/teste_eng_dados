{
 "cells": [
  {
   "cell_type": "markdown",
   "source": [
    "# Expansão dos dados aninhados e desnormalização dos dados \n",
    "\n",
    "Nosso primeiro objetivo será criar uma tabela desnormalizada (todas as informações em uma única tabela)"
   ],
   "metadata": {}
  },
  {
   "cell_type": "code",
   "execution_count": 1,
   "source": [
    "from pyspark.sql.functions import explode\n",
    "from pyspark.sql import SparkSession\n",
    "\n",
    "spark = SparkSession.builder.appName('Criando dataframes a partir de dados aninhados').getOrCreate()\n"
   ],
   "outputs": [
    {
     "output_type": "stream",
     "name": "stderr",
     "text": [
      "22/01/24 02:03:43 WARN Utils: Your hostname, MacBook-Pro-do-Renato-Turtienski.local resolves to a loopback address: 127.0.0.1; using 192.168.0.202 instead (on interface en0)\n",
      "22/01/24 02:03:43 WARN Utils: Set SPARK_LOCAL_IP if you need to bind to another address\n",
      "Using Spark's default log4j profile: org/apache/spark/log4j-defaults.properties\n",
      "Setting default log level to \"WARN\".\n",
      "To adjust logging level use sc.setLogLevel(newLevel). For SparkR, use setLogLevel(newLevel).\n",
      "22/01/24 02:03:44 WARN NativeCodeLoader: Unable to load native-hadoop library for your platform... using builtin-java classes where applicable\n"
     ]
    }
   ],
   "metadata": {}
  },
  {
   "cell_type": "code",
   "execution_count": 2,
   "source": [
    "# Lemos o json para dentro de dataframe ainda não normalizado\n",
    "df = spark.read.option('multiline', True).json('data.json')\n",
    "\n",
    "# dando uma olhada no esquema dos dados aninhados\n",
    "df.printSchema()"
   ],
   "outputs": [
    {
     "output_type": "stream",
     "name": "stderr",
     "text": []
    },
    {
     "output_type": "stream",
     "name": "stdout",
     "text": [
      "root\n",
      " |-- CreateDate: string (nullable = true)\n",
      " |-- Discount: double (nullable = true)\n",
      " |-- EmissionDate: string (nullable = true)\n",
      " |-- ItemList: array (nullable = true)\n",
      " |    |-- element: struct (containsNull = true)\n",
      " |    |    |-- ProductName: string (nullable = true)\n",
      " |    |    |-- Quantity: long (nullable = true)\n",
      " |    |    |-- Value: double (nullable = true)\n",
      " |-- NFeID: long (nullable = true)\n",
      " |-- NFeNumber: long (nullable = true)\n",
      "\n"
     ]
    }
   ],
   "metadata": {}
  },
  {
   "cell_type": "code",
   "execution_count": 3,
   "source": [
    "df.show(df.count(), False)\n",
    "\n",
    "''' podemos perceber que, o número de itens são oitos, sendo:\n",
    "    Rice, Flour, Bean, Tomate, Pasta, Beer, French Fries e Ice Cream\n",
    "    O que denota que teremos uma tabela normalizada com oito linhas\n",
    "'''"
   ],
   "outputs": [
    {
     "output_type": "stream",
     "name": "stdout",
     "text": [
      "+----------------------+--------+-------------------+-----------------------------------------------------------------+-----+---------+\n",
      "|CreateDate            |Discount|EmissionDate       |ItemList                                                         |NFeID|NFeNumber|\n",
      "+----------------------+--------+-------------------+-----------------------------------------------------------------+-----+---------+\n",
      "|2021-05-24T20:21:34.79|0.0     |2021-05-24T00:00:00|[{Rice, 2, 35.55}, {Flour, 5, 11.55}, {Bean, 7, 27.15}]          |1    |501      |\n",
      "|2021-05-24T20:21:34.79|0.0     |2021-05-24T00:00:00|[{Tomate, 10, 12.25}, {Pasta, 5, 7.55}]                          |2    |502      |\n",
      "|2021-05-24T20:21:34.79|0.0     |2021-05-24T00:00:00|[{Beer, 6, 9.0}, {French fries, 2, 10.99}, {Ice cream, 1, 27.15}]|3    |503      |\n",
      "+----------------------+--------+-------------------+-----------------------------------------------------------------+-----+---------+\n",
      "\n"
     ]
    },
    {
     "output_type": "execute_result",
     "data": {
      "text/plain": [
       "' podemos perceber que, o número de itens são oitos, sendo:\\n    Rice, Flour, Bean, Tomate, Pasta, Beer, French Fries e Ice Cream\\n    O que denota que teremos uma tabela normalizada com oito linhas\\n'"
      ]
     },
     "metadata": {},
     "execution_count": 3
    }
   ],
   "metadata": {}
  },
  {
   "cell_type": "code",
   "execution_count": 4,
   "source": [
    "# Vamos desnormalizar o dataframe, Com a coluna com dados aninhados (ItemList) sendo \"explodida\"\n",
    "\n",
    "\n",
    "df_desnormalizado = df.withColumn('ItemList', explode('ItemList'))\\\n",
    "                 .select('CreateDate', 'Discount', 'EmissionDate', 'ItemList.*', 'NFeID', 'NFeNumber')"
   ],
   "outputs": [],
   "metadata": {}
  },
  {
   "cell_type": "code",
   "execution_count": 7,
   "source": [
    "# Por fim temos os dados desnormalizados \n",
    "df_desnormalizado.show(df_desnormalizado.count(), False)"
   ],
   "outputs": [
    {
     "output_type": "stream",
     "name": "stdout",
     "text": [
      "+----------------------+--------+-------------------+------------+--------+-----+-----+---------+\n",
      "|CreateDate            |Discount|EmissionDate       |ProductName |Quantity|Value|NFeID|NFeNumber|\n",
      "+----------------------+--------+-------------------+------------+--------+-----+-----+---------+\n",
      "|2021-05-24T20:21:34.79|0.0     |2021-05-24T00:00:00|Rice        |2       |35.55|1    |501      |\n",
      "|2021-05-24T20:21:34.79|0.0     |2021-05-24T00:00:00|Flour       |5       |11.55|1    |501      |\n",
      "|2021-05-24T20:21:34.79|0.0     |2021-05-24T00:00:00|Bean        |7       |27.15|1    |501      |\n",
      "|2021-05-24T20:21:34.79|0.0     |2021-05-24T00:00:00|Tomate      |10      |12.25|2    |502      |\n",
      "|2021-05-24T20:21:34.79|0.0     |2021-05-24T00:00:00|Pasta       |5       |7.55 |2    |502      |\n",
      "|2021-05-24T20:21:34.79|0.0     |2021-05-24T00:00:00|Beer        |6       |9.0  |3    |503      |\n",
      "|2021-05-24T20:21:34.79|0.0     |2021-05-24T00:00:00|French fries|2       |10.99|3    |503      |\n",
      "|2021-05-24T20:21:34.79|0.0     |2021-05-24T00:00:00|Ice cream   |1       |27.15|3    |503      |\n",
      "+----------------------+--------+-------------------+------------+--------+-----+-----+---------+\n",
      "\n"
     ]
    }
   ],
   "metadata": {}
  },
  {
   "cell_type": "markdown",
   "source": [
    "# Criação dos dataframes \n",
    "Criemos agora os dois dataframes que devem ser releacionar por uma chave\n",
    "Para tal, usaremos NFeID como chave\n",
    "\n",
    "Serão:\n",
    "* Tabela 1: NFe:\n",
    "    * Variáveis: NFeID, NFeNumber, EmissionDate, CreateDate\n",
    "\n",
    "* Tabela 2: Itens:\n",
    "    * Variáveis: NFeID, ProductName, Quantity, Value\n",
    "    \n",
    "."
   ],
   "metadata": {}
  }
 ],
 "metadata": {
  "orig_nbformat": 4,
  "language_info": {
   "name": "python",
   "version": "3.9.9",
   "mimetype": "text/x-python",
   "codemirror_mode": {
    "name": "ipython",
    "version": 3
   },
   "pygments_lexer": "ipython3",
   "nbconvert_exporter": "python",
   "file_extension": ".py"
  },
  "kernelspec": {
   "name": "python3",
   "display_name": "Python 3.9.9 64-bit"
  },
  "interpreter": {
   "hash": "aee8b7b246df8f9039afb4144a1f6fd8d2ca17a180786b69acc140d282b71a49"
  }
 },
 "nbformat": 4,
 "nbformat_minor": 2
}